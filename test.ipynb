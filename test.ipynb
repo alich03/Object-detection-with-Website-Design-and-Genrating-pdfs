{
 "cells": [
  {
   "cell_type": "code",
   "execution_count": 2,
   "metadata": {},
   "outputs": [
    {
     "data": {
      "text/plain": [
       "1"
      ]
     },
     "execution_count": 2,
     "metadata": {},
     "output_type": "execute_result"
    }
   ],
   "source": [
    "25%6"
   ]
  },
  {
   "cell_type": "code",
   "execution_count": null,
   "metadata": {},
   "outputs": [],
   "source": [
    "\n",
    "count=0\n",
    "for i in range(50):\n",
    "    count=count+1\n",
    "    if count % 5!= 0:\n",
    "        print(count)"
   ]
  },
  {
   "cell_type": "code",
   "execution_count": 6,
   "metadata": {},
   "outputs": [],
   "source": [
    "\n",
    "ol=[]\n",
    "obj='ali'\n",
    "if obj not in ol:\n",
    "    ol.append(obj)\n"
   ]
  },
  {
   "cell_type": "code",
   "execution_count": 18,
   "metadata": {},
   "outputs": [],
   "source": [
    "ol = [\n",
    "    {'name': 'Product 1', 'price': 19.99, 'description': 'This is product 1'},\n",
    "    {'name': 'Product 2', 'price': 29.99, 'description': 'This is product 2'},\n",
    "    {'name': 'Product 3', 'price': 39.99, 'description': 'This is product 3'}\n",
    "]"
   ]
  },
  {
   "cell_type": "code",
   "execution_count": 19,
   "metadata": {},
   "outputs": [
    {
     "data": {
      "text/plain": [
       "[{'name': 'Product 1', 'price': 19.99, 'description': 'This is product 1'},\n",
       " {'name': 'Product 2', 'price': 29.99, 'description': 'This is product 2'},\n",
       " {'name': 'Product 3', 'price': 39.99, 'description': 'This is product 3'}]"
      ]
     },
     "execution_count": 19,
     "metadata": {},
     "output_type": "execute_result"
    }
   ],
   "source": [
    "ol"
   ]
  },
  {
   "cell_type": "code",
   "execution_count": 25,
   "metadata": {},
   "outputs": [],
   "source": [
    "\n",
    "obj={'name':'ali','price':'ali1','description':'ali2'}\n",
    "if obj not in ol:  # Adjust accuracy threshold as needed\n",
    "    # if obj not in ol:\n",
    "        ol.append(obj)\n",
    "\n",
    "        "
   ]
  },
  {
   "cell_type": "code",
   "execution_count": 28,
   "metadata": {},
   "outputs": [
    {
     "data": {
      "text/plain": [
       "[{'name': 'Product 1', 'price': 19.99, 'description': 'This is product 1'},\n",
       " {'name': 'Product 2', 'price': 29.99, 'description': 'This is product 2'},\n",
       " {'name': 'Product 3', 'price': 39.99, 'description': 'This is product 3'},\n",
       " {'name': 'ali', 'price': 'ali1', 'description': 'ali2'}]"
      ]
     },
     "execution_count": 28,
     "metadata": {},
     "output_type": "execute_result"
    }
   ],
   "source": [
    "ol"
   ]
  }
 ],
 "metadata": {
  "kernelspec": {
   "display_name": "mpv",
   "language": "python",
   "name": "python3"
  },
  "language_info": {
   "codemirror_mode": {
    "name": "ipython",
    "version": 3
   },
   "file_extension": ".py",
   "mimetype": "text/x-python",
   "name": "python",
   "nbconvert_exporter": "python",
   "pygments_lexer": "ipython3",
   "version": "3.10.13"
  }
 },
 "nbformat": 4,
 "nbformat_minor": 2
}
